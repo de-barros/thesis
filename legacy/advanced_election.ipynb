{
 "cells": [
  {
   "cell_type": "markdown",
   "metadata": {},
   "source": [
    "## Election Generator\n",
    "\n",
    "This notebook builds upon `election_generator.ipynb` to generate fake elections with a more truly stochastic process.\n",
    "\n",
    "Say there are three candidates in an election, $A$, $B$, and $C$. Now say the election had the following breakdown:\n",
    "- $800$ votes for $A$\n",
    "- $100$ votes for $B$\n",
    "- $100$ votes for $C$\n",
    "\n",
    "Now say we have apriori information about how racial groups vote, $\\beta_{i, c_j}$ where $i$ is the race and $c_j$ is the candidate.\n",
    "\n",
    "The racial distribution of candidate $A$'s voters can thus be described as:\n",
    "\n",
    "$$\\alpha_{1, A} + \\alpha_{2, A} + \\alpha_{3, A} = 800$$\n",
    "\n",
    "To calculate $alpha_{1, A}$, use the following:\n",
    "\n",
    "$$\\sum_{\\alpha_1 \\alpha_2 \\alpha_3} \\left((\\beta_{1, A})^{\\alpha_1} \\cdot (\\beta_{2, A})^{\\alpha_2} \\cdot (\\beta_{3, A})^{\\alpha_3} \\cdot \\frac{800!}{\\alpha_1! \\alpha_2! \\alpha_3!}\\right)$$\n",
    "\n",
    "Given:\n",
    "1. the number of people in the precinct: $n$\n",
    "2. the list of candidates in the district: $C = \\{c_0, c_1, \\dots, c_a\\}$, where $a$ is the number of candidates in the race\n",
    "3. the racial breakdown of the district: $R = \\{r_0, r_1, \\dots, r_b\\}$, where $b$ is the number of races represented. $r_i$ is the fraction of $n$ that race $i$ represents in the district\n",
    "4. the probabilities that members of certain races vote for certain candidates: $\\beta_{i, c_j}$, where $i$ is the race and $c_j$ is the candidate\n",
    "\n",
    "The election generated has the following information:\n",
    "1. the number of people that voted for each candidate\n",
    "2. the racial breakdown of each candidate's voters"
   ]
  },
  {
   "cell_type": "code",
   "execution_count": 4,
   "metadata": {},
   "outputs": [],
   "source": [
    "from typing import Dict, List, Tuple\n",
    "import random\n",
    "from scipy.stats import binom\n",
    "import numpy as np\n",
    "import math"
   ]
  },
  {
   "cell_type": "markdown",
   "metadata": {},
   "source": [
    "The following function interprets $beta_{i, c_j}$ to be the proportion of a racial group that votes for a particular candidate."
   ]
  },
  {
   "cell_type": "code",
   "execution_count": 8,
   "metadata": {},
   "outputs": [],
   "source": [
    "def individual_choice(n: int, candidates: List[str], racial_breakdown: List[float], beta: List[List[float]]) -> Dict[str, Tuple[int, float]]:\n",
    "    racial_numbers = [round(r_i * n) for r_i in racial_breakdown]\n",
    "    result = dict()\n",
    "    \n",
    "    true_alpha_1 = 0\n",
    "    true_alpha_2 = 0\n",
    "    true_alpha_3 = 0\n",
    "    \n",
    "    for alpha_1 in range(racial_numbers[0]):\n",
    "        for alpha_2 in range(racial_numbers[1]):\n",
    "            for alpha_3 in range(racial_numbers[2]):\n",
    "                division_term = 0\n",
    "                true_alpha_1 += (racial_breakdown[0] ** alpha_1) * (racial_breakdown[1] ** alpha_2) * (racial_breakdown[2] ** alpha_3)\n",
    "    for cand_index, candidate in enumerate(candidates):\n",
    "        racial_result = [r_n * beta[race][cand_index] for race, r_n in enumerate(racial_numbers)]\n",
    "        num_votes = sum(racial_result)\n",
    "        result[candidate] = num_votes, racial_result\n",
    "    return result"
   ]
  },
  {
   "cell_type": "code",
   "execution_count": null,
   "metadata": {},
   "outputs": [],
   "source": []
  }
 ],
 "metadata": {
  "kernelspec": {
   "display_name": "Python 3",
   "language": "python",
   "name": "python3"
  },
  "language_info": {
   "codemirror_mode": {
    "name": "ipython",
    "version": 3
   },
   "file_extension": ".py",
   "mimetype": "text/x-python",
   "name": "python",
   "nbconvert_exporter": "python",
   "pygments_lexer": "ipython3",
   "version": "3.7.4"
  }
 },
 "nbformat": 4,
 "nbformat_minor": 4
}
