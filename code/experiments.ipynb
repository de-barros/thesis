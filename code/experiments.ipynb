{
 "cells": [
  {
   "cell_type": "markdown",
   "metadata": {},
   "source": [
    "## Experiments for the Discrete Voter Model\n",
    "\n",
    "This notebook evaluates the the Discrete Voter Model by running experiments on mock elections and real elections from North Carolina and Chicago."
   ]
  },
  {
   "cell_type": "code",
   "execution_count": 3,
   "metadata": {},
   "outputs": [],
   "source": [
    "import dvm_eval\n",
    "import elect"
   ]
  },
  {
   "cell_type": "code",
   "execution_count": null,
   "metadata": {},
   "outputs": [],
   "source": []
  },
  {
   "cell_type": "code",
   "execution_count": null,
   "metadata": {},
   "outputs": [],
   "source": [
    "eval_candidates_2 = ['a', 'b']"
   ]
  },
  {
   "cell_type": "code",
   "execution_count": null,
   "metadata": {},
   "outputs": [],
   "source": [
    "# 2D evaluation\n",
    "eval_demo_1 = {'Group 1': 50, 'Group 2': 50}\n",
    "eval_demo_2 = {'Group 1': 25, 'Group 2': 75}\n",
    "eval_demo_3 = {'Group 1': 10, 'Group 2': 90}"
   ]
  },
  {
   "cell_type": "code",
   "execution_count": null,
   "metadata": {},
   "outputs": [],
   "source": [
    "eval_beta_1 = {'Group 1': [0.5, 0.5], \n",
    "               'Group 2': [0.3, 0.7]}\n",
    "eval_beta_2 = {'Group 1': [0.25, 0.75], \n",
    "               'Group 2': [0.2, 0.8]}"
   ]
  },
  {
   "cell_type": "code",
   "execution_count": null,
   "metadata": {},
   "outputs": [],
   "source": [
    "experiments_2d = []\n",
    "random_election_1_1 = generate_random_election(eval_candidates, eval_demo_1, eval_beta_1)\n",
    "experiments_2d.append((random_election_1_1, eval_demo_1, eval_beta_1, \"1_1\"))\n",
    "\n",
    "random_election_1_2 = generate_random_election(eval_candidates, eval_demo_1, eval_beta_2)\n",
    "experiments_2d.append((random_election_1_2, eval_demo_1, eval_beta_2, \"1_2\"))\n",
    "\n",
    "random_election_2_1 = generate_random_election(eval_candidates, eval_demo_2, eval_beta_1)\n",
    "experiments_2d.append((random_election_2_1, eval_demo_1, eval_beta_2, \"2_1\"))\n",
    "\n",
    "random_election_2_2 = generate_random_election(eval_candidates, eval_demo_2, eval_beta_2)\n",
    "experiments_2d.append((random_election_2_2, eval_demo_2, eval_beta_2, \"2_2\"))\n",
    "\n",
    "random_election_3_1 = generate_random_election(eval_candidates, eval_demo_3, eval_beta_1)\n",
    "experiments_2d.append((random_election_1_1, eval_demo_3, eval_beta_1, \"3_1\"))\n",
    "\n",
    "random_election_3_2 = generate_random_election(eval_candidates, eval_demo_3, eval_beta_2)\n",
    "experiments_2d.append((random_election_3_2, eval_demo_3, eval_beta_2, \"3_2\"))"
   ]
  },
  {
   "cell_type": "code",
   "execution_count": null,
   "metadata": {},
   "outputs": [],
   "source": [
    "experiments_2d"
   ]
  },
  {
   "cell_type": "code",
   "execution_count": null,
   "metadata": {},
   "outputs": [],
   "source": [
    "dvm_king_evaluator(random_election_1_1, eval_demo_1, eval_beta_1, \"1_1\")"
   ]
  },
  {
   "cell_type": "code",
   "execution_count": null,
   "metadata": {},
   "outputs": [],
   "source": [
    "# 3D evaluation\n",
    "eval_demo_4 = {'Group 1': 50, 'Group 2': 50, 'Group 3': 0}\n",
    "eval_demo_5 = {'Group 1': 25, 'Group 2': 25, 'Group 3': 50}\n",
    "eval_demo_6 = {'Group 1': 33, 'Group 2': 33, 'Group 3': 34}"
   ]
  },
  {
   "cell_type": "code",
   "execution_count": null,
   "metadata": {},
   "outputs": [],
   "source": [
    "eval_beta_3 = {'Group 1': [0.2, 0.8], \n",
    "               'Group 2': [0.8, 0.2], \n",
    "               'Group 3': [0.4, 0.6]}\n",
    "eval_beta_4 = {'Group 1': [0.3, 0.7], \n",
    "               'Group 2': [0.4, 0.6], \n",
    "               'Group 3': [0.5, 0.5]}"
   ]
  },
  {
   "cell_type": "code",
   "execution_count": null,
   "metadata": {},
   "outputs": [],
   "source": [
    "experiments_3d = []\n",
    "random_election_4_3 = generate_random_election(eval_candidates, eval_demo_4, eval_beta_3)\n",
    "experiments_3d.append((random_election_4_3, eval_demo_4, eval_beta_3, \"4_3\"))\n",
    "\n",
    "random_election_4_4 = generate_random_election(eval_candidates, eval_demo_4, eval_beta_4)\n",
    "experiments_3d.append((random_election_4_4, eval_demo_4, eval_beta_4, \"4_4\"))\n",
    "\n",
    "random_election_5_3 = generate_random_election(eval_candidates, eval_demo_5, eval_beta_3)\n",
    "experiments_3d.append((random_election_5_3, eval_demo_5, eval_beta_3, \"5_3\"))\n",
    "\n",
    "random_election_5_4 = generate_random_election(eval_candidates, eval_demo_5, eval_beta_4)\n",
    "experiments_3d.append((random_election_5_4, eval_demo_5, eval_beta_4, \"5_4\"))\n",
    "\n",
    "random_election_6_3 = generate_random_election(eval_candidates, eval_demo_6, eval_beta_3)\n",
    "experiments_3d.append((random_election_6_3, eval_demo_6, eval_beta_3, \"6_3\"))\n",
    "\n",
    "random_election_6_4 = generate_random_election(eval_candidates, eval_demo_6, eval_beta_4)\n",
    "experiments_3d.append((random_election_6_4, eval_demo_6, eval_beta_4, \"6_4\"))"
   ]
  },
  {
   "cell_type": "code",
   "execution_count": null,
   "metadata": {},
   "outputs": [],
   "source": [
    "dvm_king_evaluator(*experiments_3d[0])"
   ]
  },
  {
   "cell_type": "code",
   "execution_count": null,
   "metadata": {},
   "outputs": [],
   "source": [
    "results_2d = [dvm_king_evaluator(*experiment, n_iter=5) for experiment in experiments_2d]"
   ]
  },
  {
   "cell_type": "code",
   "execution_count": null,
   "metadata": {},
   "outputs": [],
   "source": [
    "pd.DataFrame(results_2d).to_csv(\"experiment_results/2d.csv\", index=False)"
   ]
  },
  {
   "cell_type": "code",
   "execution_count": null,
   "metadata": {},
   "outputs": [],
   "source": [
    "results_3d = [dvm_king_evaluator(*experiment, n_iter=3) for experiment in experiments_3d]"
   ]
  },
  {
   "cell_type": "code",
   "execution_count": null,
   "metadata": {},
   "outputs": [],
   "source": [
    "pd.DataFrame(results_3d).to_csv(\"experiment_results/3d.csv\", index=False)"
   ]
  }
 ],
 "metadata": {
  "kernelspec": {
   "display_name": "thesis",
   "language": "python",
   "name": "thesis"
  },
  "language_info": {
   "codemirror_mode": {
    "name": "ipython",
    "version": 3
   },
   "file_extension": ".py",
   "mimetype": "text/x-python",
   "name": "python",
   "nbconvert_exporter": "python",
   "pygments_lexer": "ipython3",
   "version": "3.7.6"
  }
 },
 "nbformat": 4,
 "nbformat_minor": 4
}
