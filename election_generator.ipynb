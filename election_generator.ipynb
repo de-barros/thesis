{
 "cells": [
  {
   "cell_type": "markdown",
   "metadata": {},
   "source": [
    "## Election Generator\n",
    "\n",
    "This notebook generates fake elections that simulate the racial dynamics of an election, at the precinct (or lowest cohesive voting bloc) level.\n",
    "\n",
    "Given:\n",
    "1. the number of people in the precinct: $n$\n",
    "2. the list of candidates in the district: $C = \\{c_0, c_1, \\dots, c_a\\}$, where $a$ is the number of candidates in the race\n",
    "3. the racial breakdown of the district: $R = \\{r_0, r_1, \\dots, r_b\\}$, where $b$ is the number of races represented. $r_i$ is the fraction of $n$ that race $i$ represents in the district\n",
    "4. the probabilities that members of certain races vote for certain candidates: $\\beta_{i, c_j}$, where $i$ is the race and $c_j$ is the candidate\n",
    "\n",
    "The election generated has the following information:\n",
    "1. the number of people that voted for each candidate\n",
    "2. the racial breakdown of each candidate's voters"
   ]
  },
  {
   "cell_type": "code",
   "execution_count": 1,
   "metadata": {},
   "outputs": [],
   "source": [
    "from typing import Dict, List, Tuple\n",
    "import random\n",
    "from scipy.stats import binom\n",
    "import numpy as np"
   ]
  },
  {
   "cell_type": "markdown",
   "metadata": {},
   "source": [
    "The following function interprets $beta_{i, c_j}$ to be the proportion of a racial group that votes for a particular candidate."
   ]
  },
  {
   "cell_type": "code",
   "execution_count": 2,
   "metadata": {},
   "outputs": [],
   "source": [
    "def generate_deterministic_election(n: int, candidates: List[str], racial_breakdown: List[float], beta: List[List[float]]) -> Dict[str, Tuple[int, float]]:\n",
    "    racial_numbers = [round(r_i * n) for r_i in racial_breakdown]\n",
    "    result = dict()\n",
    "    for cand_index, candidate in enumerate(candidates):\n",
    "        racial_result = [r_n * beta[race][cand_index] for race, r_n in enumerate(racial_numbers)]\n",
    "        num_votes = sum(racial_result)\n",
    "        result[candidate] = num_votes, racial_result\n",
    "    return result"
   ]
  },
  {
   "cell_type": "code",
   "execution_count": 3,
   "metadata": {},
   "outputs": [
    {
     "data": {
      "text/plain": [
       "{'a': (360.0, [240.0, 90.0, 30.0]),\n",
       " 'b': (410.0, [300.0, 60.0, 50.0]),\n",
       " 'c': (230.0, [60.0, 150.0, 20.0])}"
      ]
     },
     "execution_count": 3,
     "metadata": {},
     "output_type": "execute_result"
    }
   ],
   "source": [
    "generate_deterministic_election(1000, ['a', 'b', 'c'], [0.6, 0.3, 0.1], [[0.4, 0.5, 0.1], [0.3, 0.2, 0.5], [0.3, 0.5, 0.2]])"
   ]
  },
  {
   "cell_type": "markdown",
   "metadata": {},
   "source": [
    "The following function interprets $beta_{i, c_j}$ to be the probability that a single member of a racial group turns out to vote for a particular candidate.\n",
    "\n",
    "It has an extra paramter, `whole_ouput` that rounds the output to the nearest whole number if it is set to `True`."
   ]
  },
  {
   "cell_type": "code",
   "execution_count": 4,
   "metadata": {},
   "outputs": [],
   "source": [
    "def generate_simple_random_election(n: int, candidates: List[str], racial_breakdown: List[float], beta: List[List[float]], whole_output=False) -> Dict[str, Tuple[int, float]]:\n",
    "    racial_numbers = [round(r_i * n) for r_i in racial_breakdown]\n",
    "    result = dict()\n",
    "    for cand_index, candidate in enumerate(candidates):\n",
    "        racial_result = [binom.rvs(n=r_n, p=beta[race][cand_index], size=100).mean() for race, r_n in enumerate(racial_numbers)]\n",
    "        num_votes = sum(racial_result)\n",
    "        if whole_output:\n",
    "            num_votes = round(num_votes)\n",
    "            racial_result = np.round(racial_result).tolist()\n",
    "        result[candidate] = num_votes, racial_result\n",
    "    return result"
   ]
  },
  {
   "cell_type": "code",
   "execution_count": 5,
   "metadata": {},
   "outputs": [
    {
     "data": {
      "text/plain": [
       "{'a': (361.25, [241.68, 89.92, 29.65]),\n",
       " 'b': (410.74999999999994, [300.28, 60.03, 50.44]),\n",
       " 'c': (229.05, [59.9, 148.97, 20.18])}"
      ]
     },
     "execution_count": 5,
     "metadata": {},
     "output_type": "execute_result"
    }
   ],
   "source": [
    "generate_simple_random_election(1000, ['a', 'b', 'c'], [0.6, 0.3, 0.1], [[0.4, 0.5, 0.1], [0.3, 0.2, 0.5], [0.3, 0.5, 0.2]])"
   ]
  },
  {
   "cell_type": "code",
   "execution_count": 6,
   "metadata": {},
   "outputs": [
    {
     "data": {
      "text/plain": [
       "{'a': (361.0, [240.0, 90.0, 30.0]),\n",
       " 'b': (408.0, [299.0, 60.0, 49.0]),\n",
       " 'c': (230.0, [60.0, 151.0, 20.0])}"
      ]
     },
     "execution_count": 6,
     "metadata": {},
     "output_type": "execute_result"
    }
   ],
   "source": [
    "generate_simple_random_election(1000, ['a', 'b', 'c'], [0.6, 0.3, 0.1], [[0.4, 0.5, 0.1], [0.3, 0.2, 0.5], [0.3, 0.5, 0.2]], whole_output=True)"
   ]
  },
  {
   "cell_type": "code",
   "execution_count": 35,
   "metadata": {},
   "outputs": [],
   "source": [
    "def generate_random_election(n: int, candidates: List[str], racial_breakdown: List[float], beta: List[List[float]], whole_output=False) -> Dict[str, Tuple[int, float]]:\n",
    "    racial_numbers = [round(r_i * n) for r_i in racial_breakdown]\n",
    "    num_races = len(racial_breakdown)\n",
    "    \n",
    "    result = {'a': (0, np.zeros(num_races)), 'b': (0, np.zeros(num_races)), 'c': (0, np.zeros(num_races))}\n",
    "    \n",
    "    for cand_index, candidate in enumerate(candidates):\n",
    "        for race, r_n in enumerate(racial_numbers):\n",
    "            for voter in range(r_n):\n",
    "                vote = np.random.choice(candidates, 1, beta[race])[0]\n",
    "                prev_total, prev_breakdown = result[vote]\n",
    "                prev_breakdown[race] += 1\n",
    "                result[vote] = prev_total + 1, list(prev_breakdown)\n",
    "    return result"
   ]
  },
  {
   "cell_type": "code",
   "execution_count": 36,
   "metadata": {},
   "outputs": [
    {
     "data": {
      "text/plain": [
       "{'a': (1044, [627.0, 326.0, 91.0]),\n",
       " 'b': (999, [589.0, 314.0, 96.0]),\n",
       " 'c': (957, [584.0, 260.0, 113.0])}"
      ]
     },
     "execution_count": 36,
     "metadata": {},
     "output_type": "execute_result"
    }
   ],
   "source": [
    "generate_random_election(1000, ['a', 'b', 'c'], [0.6, 0.3, 0.1], [[0.4, 0.5, 0.1], [0.3, 0.2, 0.5], [0.3, 0.5, 0.2]])"
   ]
  },
  {
   "cell_type": "code",
   "execution_count": null,
   "metadata": {},
   "outputs": [],
   "source": []
  }
 ],
 "metadata": {
  "kernelspec": {
   "display_name": "Python 3",
   "language": "python",
   "name": "python3"
  },
  "language_info": {
   "codemirror_mode": {
    "name": "ipython",
    "version": 3
   },
   "file_extension": ".py",
   "mimetype": "text/x-python",
   "name": "python",
   "nbconvert_exporter": "python",
   "pygments_lexer": "ipython3",
   "version": "3.7.4"
  }
 },
 "nbformat": 4,
 "nbformat_minor": 4
}
