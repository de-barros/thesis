{
 "cells": [
  {
   "cell_type": "markdown",
   "metadata": {},
   "source": [
    "## Election Generator\n",
    "\n",
    "This notebook generates fake elections that simulate the racial dynamics of an election, at the precinct (or lowest cohesive voting bloc) level.\n",
    "\n",
    "Given:\n",
    "1. the number of people in the precinct: $n$\n",
    "2. the list of candidates in the district: $C = \\{c_0, c_1, \\dots, c_a\\}$, where $a$ is the number of candidates in the race\n",
    "3. the racial breakdown of the district: $R = \\{r_0, r_1, \\dots, r_b\\}$, where $b$ is the number of races represented. $r_i$ is the fraction of $n$ that race $i$ represents in the district\n",
    "4. the probabilities that members of certain races vote for certain candidates: $\\beta_{i, c_j}$, where $i$ is the race and $c_j$ is the candidate\n",
    "\n",
    "The election generated has the following information:\n",
    "1. the number of people that voted for each candidate\n",
    "2. the racial breakdown of each candidate's voters"
   ]
  },
  {
   "cell_type": "code",
   "execution_count": 46,
   "metadata": {},
   "outputs": [],
   "source": [
    "from typing import Dict, List, Tuple\n",
    "import random\n",
    "from scipy.stats import binom\n",
    "import numpy as np"
   ]
  },
  {
   "cell_type": "code",
   "execution_count": 21,
   "metadata": {},
   "outputs": [],
   "source": [
    "def generate_deterministic_election(n: int, candidates: List[str], racial_breakdown: List[float], beta: List[List[float]]) -> Dict[str, Tuple[int, float]]:\n",
    "    racial_numbers = [round(r_i * n) for r_i in racial_breakdown]\n",
    "    result = dict()\n",
    "    for cand_index, candidate in enumerate(candidates):\n",
    "        racial_result = [r_n * beta[race][cand_index] for race, r_n in enumerate(racial_numbers)]\n",
    "        num_votes = sum(racial_result)\n",
    "        result[candidate] = num_votes, racial_result\n",
    "    return result"
   ]
  },
  {
   "cell_type": "code",
   "execution_count": 56,
   "metadata": {},
   "outputs": [
    {
     "name": "stdout",
     "output_type": "stream",
     "text": [
      "[600, 300, 100]\n"
     ]
    },
    {
     "data": {
      "text/plain": [
       "{'a': (360.0, [240.0, 90.0, 30.0]),\n",
       " 'b': (410.0, [300.0, 60.0, 50.0]),\n",
       " 'c': (230.0, [60.0, 150.0, 20.0])}"
      ]
     },
     "execution_count": 56,
     "metadata": {},
     "output_type": "execute_result"
    }
   ],
   "source": [
    "generate_deterministic_election(1000, ['a', 'b', 'c'], [0.6, 0.3, 0.1], [[0.4, 0.5, 0.1], [0.3, 0.2, 0.5], [0.3, 0.5, 0.2]])"
   ]
  },
  {
   "cell_type": "code",
   "execution_count": 48,
   "metadata": {},
   "outputs": [],
   "source": [
    "def generate_random_election(n: int, candidates: List[str], racial_breakdown: List[float], beta: List[List[float]], whole_output=False) -> Dict[str, Tuple[int, float]]:\n",
    "    racial_numbers = [round(r_i * n) for r_i in racial_breakdown]\n",
    "    result = dict()\n",
    "    for cand_index, candidate in enumerate(candidates):\n",
    "        racial_result = [binom.rvs(n=r_n, p=beta[race][cand_index], size=100).mean() for race, r_n in enumerate(racial_numbers)]\n",
    "        num_votes = sum(racial_result)\n",
    "        if whole_output:\n",
    "            num_votes = round(num_votes)\n",
    "            racial_result = np.round(racial_result).tolist()\n",
    "        result[candidate] = num_votes, racial_result\n",
    "    return result"
   ]
  },
  {
   "cell_type": "code",
   "execution_count": 57,
   "metadata": {},
   "outputs": [
    {
     "data": {
      "text/plain": [
       "{'a': (359.53999999999996, [239.41, 90.41, 29.72]),\n",
       " 'b': (409.56000000000006, [299.56, 59.78, 50.22]),\n",
       " 'c': (227.31, [58.57, 149.19, 19.55])}"
      ]
     },
     "execution_count": 57,
     "metadata": {},
     "output_type": "execute_result"
    }
   ],
   "source": [
    "generate_random_election(1000, ['a', 'b', 'c'], [0.6, 0.3, 0.1], [[0.4, 0.5, 0.1], [0.3, 0.2, 0.5], [0.3, 0.5, 0.2]])"
   ]
  },
  {
   "cell_type": "code",
   "execution_count": 58,
   "metadata": {},
   "outputs": [
    {
     "data": {
      "text/plain": [
       "{'a': (360.0, [240.0, 90.0, 30.0]),\n",
       " 'b': (411.0, [301.0, 61.0, 50.0]),\n",
       " 'c': (227.0, [59.0, 148.0, 20.0])}"
      ]
     },
     "execution_count": 58,
     "metadata": {},
     "output_type": "execute_result"
    }
   ],
   "source": [
    "generate_random_election(1000, ['a', 'b', 'c'], [0.6, 0.3, 0.1], [[0.4, 0.5, 0.1], [0.3, 0.2, 0.5], [0.3, 0.5, 0.2]], whole_output=True)"
   ]
  },
  {
   "cell_type": "code",
   "execution_count": null,
   "metadata": {},
   "outputs": [],
   "source": []
  }
 ],
 "metadata": {
  "kernelspec": {
   "display_name": "Python 3",
   "language": "python",
   "name": "python3"
  },
  "language_info": {
   "codemirror_mode": {
    "name": "ipython",
    "version": 3
   },
   "file_extension": ".py",
   "mimetype": "text/x-python",
   "name": "python",
   "nbconvert_exporter": "python",
   "pygments_lexer": "ipython3",
   "version": "3.7.4"
  }
 },
 "nbformat": 4,
 "nbformat_minor": 4
}
