{
 "cells": [
  {
   "cell_type": "markdown",
   "metadata": {},
   "source": [
    "## The Functions of the Discrete Voter Model\n",
    "\n",
    "This notebook implements the following $6$ subroutines for the **discrete voter model**:\n",
    "1. `make_grid`: create a probabilistic grid: an $\\mathbf{R}^n$ array of values, $\\omega$, that all sum to $1$\n",
    "2. `shift_weight`: shift weight in a grid in a reversible way\n",
    "3. `expec_votes`: given a grid, a candidate, and a district description, output the expectation of votes that candidate received\n",
    "4. `prob_votes`: given a grid, a candidate, a district description, and the observed vote outcomes, output the probability of seeing that outcome\n",
    "5. `mcmc`: run a Markov Chain Monte Carlo method on a state space of grids\n",
    "6. `hill_climb`: optimize the expectation or probability with gradient descent"
   ]
  },
  {
   "cell_type": "markdown",
   "metadata": {},
   "source": [
    "### `make_grid`\n",
    "Create a probabilistic grid: an $\\mathbf{R}^n$ array of values, $\\omega$, that all sum to $1$."
   ]
  },
  {
   "cell_type": "code",
   "execution_count": 77,
   "metadata": {},
   "outputs": [],
   "source": [
    "import numpy as np\n",
    "from operator import mul\n",
    "import functools"
   ]
  },
  {
   "cell_type": "code",
   "execution_count": 2,
   "metadata": {},
   "outputs": [],
   "source": [
    "def make_grid(num_groups, matrix_size, random=True):\n",
    "    \"\"\"\n",
    "    Create a probabilistic grid.\n",
    "    \n",
    "    num_groups (int): the number of groups to be represented \n",
    "    matrix_size (int): the dimensions of the matrix\n",
    "    random (bool): whether the grid should be initialized uniformly\n",
    "    or randomly\n",
    "    \n",
    "    return: a probabilistic grid \n",
    "    \"\"\"\n",
    "    if random:\n",
    "        matrix = np.random.rand(num_groups - 1, matrix_size, matrix_size)\n",
    "    else:\n",
    "        matrix = np.ones((num_groups - 1, matrix_size, matrix_size))\n",
    "    return matrix / matrix.sum()"
   ]
  },
  {
   "cell_type": "markdown",
   "metadata": {},
   "source": [
    "### `shift_weight`\n",
    "Shift weight in a grid in a reversible way."
   ]
  },
  {
   "cell_type": "code",
   "execution_count": 3,
   "metadata": {},
   "outputs": [],
   "source": [
    "def shift_weight(grid, shift_type=\"uniform\"):\n",
    "    \"\"\"\n",
    "    Shift the weight in a probabilistic grid.\n",
    "    \n",
    "    grid (NumPy array): the probabilistic grid to be perturbed\n",
    "    shift_type (string): the type of shift to be done. One of:\n",
    "        1. uniform (default): add a uniform random variable to each cell then re-normalize\n",
    "        2. shuffle: shuffle the matrix (O(n))\n",
    "        3. right: shift 10% of weight to the right\n",
    "        4. left: shift 10% of weight to the left\n",
    "    \n",
    "    return: a probabilistic grid\n",
    "    \"\"\"\n",
    "    if shift_type == \"shuffle\":\n",
    "        np.random.shuffle(grid)\n",
    "        return grid\n",
    "    elif shift_type == \"right\":\n",
    "        rolled = np.roll(grid, 1, axis=1)\n",
    "        return grid + (rolled * 0.1) - (grid * 0.1)\n",
    "    elif shift_type == \"left\":\n",
    "        rolled = np.roll(grid, -1, axis=1)\n",
    "        return grid + (rolled * 0.1) - (grid * 0.1)\n",
    "    else:\n",
    "        new_grid = grid + np.random.uniform()\n",
    "        return new_grid / new_grid.sum()"
   ]
  },
  {
   "cell_type": "markdown",
   "metadata": {},
   "source": [
    "### `expec_votes`\n",
    "Given a grid, a candidate, and a district description, output the expectation of votes that candidate received."
   ]
  },
  {
   "cell_type": "code",
   "execution_count": 156,
   "metadata": {},
   "outputs": [],
   "source": [
    "def expec_votes(grid, demo):\n",
    "    \"\"\"\n",
    "    Find the expectation of votes that a candidate\n",
    "    received in a given election, with a given\n",
    "    probabilistic grid.\n",
    "    \n",
    "    grid (NumPy array): the probabilistic grid for the precinct\n",
    "    and candidate\n",
    "    demo (dict): the demographics of the district\n",
    "    \"\"\"\n",
    "    # Randomly select a cell based on their probabilities\n",
    "    flat_index = np.random.choice(range(grid.size), p=test.flatten())\n",
    "    index = np.unravel_index(flat_index, grid.shape)\n",
    "    \n",
    "    # Calculate the vote outcomes given the cell selected\n",
    "    \n",
    "    vote_outcome = np.zeros(len(demo))\n",
    "    \n",
    "    for num, group in enumerate(demo):\n",
    "        # Find the probabilities the cell represents for each group\n",
    "        pct = index[1] / grid.shape[1]\n",
    "        vote_outcome[num] += demo[group] * pct\n",
    "        \n",
    "    return np.sum(vote_outcome)"
   ]
  },
  {
   "cell_type": "markdown",
   "metadata": {},
   "source": [
    "### `prob_votes`\n",
    "Given a grid, a candidate, a district description, and the observed vote outcomes, output the probability of seeing that outcome."
   ]
  },
  {
   "cell_type": "code",
   "execution_count": null,
   "metadata": {},
   "outputs": [],
   "source": [
    "def prob_votes(grid, demo, observed):\n",
    "    \"\"\"\n",
    "    Find the expectation of votes that a candidate\n",
    "    received in a given election, with a given\n",
    "    probabilistic grid.\n",
    "    \n",
    "    grid (NumPy array): the probabilistic grid for the precinct\n",
    "    and candidate\n",
    "    demo (dict): the demographics of the district\n",
    "    observed (int): the observed number of votes the candidate received\n",
    "    \"\"\"\n",
    "    # Randomly select a cell based on their probabilities\n",
    "    flat_index = np.random.choice(range(grid.size), p=test.flatten())\n",
    "    index = np.unravel_index(flat_index, grid.shape)\n",
    "    \n",
    "    # Calculate the vote outcomes given the cell selected\n",
    "    \n",
    "    vote_outcome = np.zeros(len(demo))\n",
    "    \n",
    "    for num, group in enumerate(demo):\n",
    "        # Find the probabilities the cell represents for each group\n",
    "        pct = index[1] / grid.shape[1]\n",
    "        vote_outcome[num] += demo[group] * pct\n",
    "        \n",
    "    return np.sum(vote_outcome)"
   ]
  },
  {
   "cell_type": "code",
   "execution_count": 157,
   "metadata": {},
   "outputs": [],
   "source": [
    "matrix_dim = test.shape[1:]"
   ]
  },
  {
   "cell_type": "code",
   "execution_count": 158,
   "metadata": {},
   "outputs": [
    {
     "data": {
      "text/plain": [
       "8.09025"
      ]
     },
     "execution_count": 158,
     "metadata": {},
     "output_type": "execute_result"
    }
   ],
   "source": [
    "sum([expec_votes(test, demo) for i in range(1000)]) / 1000"
   ]
  },
  {
   "cell_type": "code",
   "execution_count": 92,
   "metadata": {},
   "outputs": [],
   "source": [
    "demo = {\"Black\": 10, \"white\": 8, \"Latinx\": 5}"
   ]
  },
  {
   "cell_type": "code",
   "execution_count": 94,
   "metadata": {},
   "outputs": [
    {
     "data": {
      "text/plain": [
       "[(0, 'Black'), (1, 'white'), (2, 'Latinx')]"
      ]
     },
     "execution_count": 94,
     "metadata": {},
     "output_type": "execute_result"
    }
   ],
   "source": [
    "list(enumerate(demo))"
   ]
  },
  {
   "cell_type": "code",
   "execution_count": null,
   "metadata": {},
   "outputs": [],
   "source": [
    "expec_votes(test, {\"\"})"
   ]
  },
  {
   "cell_type": "code",
   "execution_count": 89,
   "metadata": {},
   "outputs": [
    {
     "data": {
      "text/plain": [
       "6"
      ]
     },
     "execution_count": 89,
     "metadata": {},
     "output_type": "execute_result"
    }
   ],
   "source": [
    "sum([1,2,3])"
   ]
  },
  {
   "cell_type": "code",
   "execution_count": 84,
   "metadata": {},
   "outputs": [
    {
     "data": {
      "text/plain": [
       "16"
      ]
     },
     "execution_count": 84,
     "metadata": {},
     "output_type": "execute_result"
    }
   ],
   "source": [
    "functools.reduce(mul, matrix_dim)"
   ]
  },
  {
   "cell_type": "code",
   "execution_count": 87,
   "metadata": {},
   "outputs": [
    {
     "data": {
      "text/plain": [
       "6"
      ]
     },
     "execution_count": 87,
     "metadata": {},
     "output_type": "execute_result"
    }
   ],
   "source": [
    "51 % 15"
   ]
  },
  {
   "cell_type": "code",
   "execution_count": 68,
   "metadata": {},
   "outputs": [],
   "source": [
    "test = make_grid(2, 4)"
   ]
  },
  {
   "cell_type": "code",
   "execution_count": 69,
   "metadata": {},
   "outputs": [
    {
     "data": {
      "text/plain": [
       "(2, 4, 4)"
      ]
     },
     "execution_count": 69,
     "metadata": {},
     "output_type": "execute_result"
    }
   ],
   "source": [
    "test2.shape"
   ]
  },
  {
   "cell_type": "code",
   "execution_count": 70,
   "metadata": {},
   "outputs": [
    {
     "data": {
      "text/plain": [
       "range(0, 16)"
      ]
     },
     "execution_count": 70,
     "metadata": {},
     "output_type": "execute_result"
    }
   ],
   "source": [
    "range(len(test.flatten()))"
   ]
  },
  {
   "cell_type": "code",
   "execution_count": 71,
   "metadata": {},
   "outputs": [
    {
     "data": {
      "text/plain": [
       "16"
      ]
     },
     "execution_count": 71,
     "metadata": {},
     "output_type": "execute_result"
    }
   ],
   "source": [
    "test.size"
   ]
  },
  {
   "cell_type": "code",
   "execution_count": 76,
   "metadata": {},
   "outputs": [
    {
     "data": {
      "text/plain": [
       "(4, 4)"
      ]
     },
     "execution_count": 76,
     "metadata": {},
     "output_type": "execute_result"
    }
   ],
   "source": [
    "test.shape[1:]"
   ]
  },
  {
   "cell_type": "code",
   "execution_count": 10,
   "metadata": {},
   "outputs": [
    {
     "data": {
      "text/plain": [
       "0.055326931188884355"
      ]
     },
     "execution_count": 10,
     "metadata": {},
     "output_type": "execute_result"
    }
   ],
   "source": [
    "np.random.choice(test.flatten())"
   ]
  },
  {
   "cell_type": "code",
   "execution_count": 11,
   "metadata": {},
   "outputs": [
    {
     "data": {
      "text/plain": [
       "7"
      ]
     },
     "execution_count": 11,
     "metadata": {},
     "output_type": "execute_result"
    }
   ],
   "source": [
    "np.random.choice(range(test.size), p=test.flatten())"
   ]
  },
  {
   "cell_type": "code",
   "execution_count": 74,
   "metadata": {},
   "outputs": [
    {
     "data": {
      "text/plain": [
       "(0, 3, 3)"
      ]
     },
     "execution_count": 74,
     "metadata": {},
     "output_type": "execute_result"
    }
   ],
   "source": [
    "np.unravel_index(15, test.shape)"
   ]
  },
  {
   "cell_type": "code",
   "execution_count": 23,
   "metadata": {},
   "outputs": [
    {
     "data": {
      "text/plain": [
       "0.02770230322508814"
      ]
     },
     "execution_count": 23,
     "metadata": {},
     "output_type": "execute_result"
    }
   ],
   "source": [
    "test[index]"
   ]
  },
  {
   "cell_type": "code",
   "execution_count": 64,
   "metadata": {},
   "outputs": [
    {
     "data": {
      "text/plain": [
       "(0, 3, 3)"
      ]
     },
     "execution_count": 64,
     "metadata": {},
     "output_type": "execute_result"
    }
   ],
   "source": [
    "index"
   ]
  },
  {
   "cell_type": "code",
   "execution_count": 66,
   "metadata": {},
   "outputs": [
    {
     "data": {
      "text/plain": [
       "(1, 4, 4)"
      ]
     },
     "execution_count": 66,
     "metadata": {},
     "output_type": "execute_result"
    }
   ],
   "source": [
    "test.shape"
   ]
  },
  {
   "cell_type": "code",
   "execution_count": 59,
   "metadata": {},
   "outputs": [],
   "source": [
    "test2 = make_grid(3, 4)"
   ]
  },
  {
   "cell_type": "code",
   "execution_count": 60,
   "metadata": {},
   "outputs": [
    {
     "data": {
      "text/plain": [
       "array([[[0.04356955, 0.01996903, 0.03762756, 0.05104305],\n",
       "        [0.03662927, 0.03660784, 0.02906147, 0.00742786],\n",
       "        [0.00840191, 0.04983294, 0.02012603, 0.04973958],\n",
       "        [0.04368894, 0.036408  , 0.03341903, 0.01210207]],\n",
       "\n",
       "       [[0.02859783, 0.03602456, 0.0509068 , 0.04943169],\n",
       "        [0.04433833, 0.02533709, 0.04677605, 0.0040374 ],\n",
       "        [0.00580014, 0.03857154, 0.01168324, 0.02933397],\n",
       "        [0.02763215, 0.00702472, 0.02437048, 0.0544799 ]]])"
      ]
     },
     "execution_count": 60,
     "metadata": {},
     "output_type": "execute_result"
    }
   ],
   "source": [
    "test2"
   ]
  },
  {
   "cell_type": "code",
   "execution_count": 63,
   "metadata": {},
   "outputs": [
    {
     "data": {
      "text/plain": [
       "(2, 4, 4)"
      ]
     },
     "execution_count": 63,
     "metadata": {},
     "output_type": "execute_result"
    }
   ],
   "source": [
    "test2.shape"
   ]
  },
  {
   "cell_type": "code",
   "execution_count": 52,
   "metadata": {},
   "outputs": [
    {
     "data": {
      "text/plain": [
       "(1, 20, 24)"
      ]
     },
     "execution_count": 52,
     "metadata": {},
     "output_type": "execute_result"
    }
   ],
   "source": [
    "np.unravel_index(3524, test2.shape)"
   ]
  },
  {
   "cell_type": "code",
   "execution_count": 51,
   "metadata": {},
   "outputs": [
    {
     "data": {
      "text/plain": [
       "122500"
      ]
     },
     "execution_count": 51,
     "metadata": {},
     "output_type": "execute_result"
    }
   ],
   "source": [
    "test2.size"
   ]
  },
  {
   "cell_type": "code",
   "execution_count": null,
   "metadata": {},
   "outputs": [],
   "source": []
  }
 ],
 "metadata": {
  "kernelspec": {
   "display_name": "Python 3",
   "language": "python",
   "name": "python3"
  },
  "language_info": {
   "codemirror_mode": {
    "name": "ipython",
    "version": 3
   },
   "file_extension": ".py",
   "mimetype": "text/x-python",
   "name": "python",
   "nbconvert_exporter": "python",
   "pygments_lexer": "ipython3",
   "version": "3.7.4"
  }
 },
 "nbformat": 4,
 "nbformat_minor": 4
}
