{
 "cells": [
  {
   "cell_type": "markdown",
   "metadata": {},
   "source": [
    "## The Functions of the Discrete Voter Model\n",
    "\n",
    "This notebook implements the following $6$ subroutines for the **discrete voter model**:\n",
    "1. `make_grid`: create a probabilistic grid: an $\\mathbf{R}^n$ array of values, $\\omega$, that all sum to $1$\n",
    "2. `shift_weight`: shift weight in a grid in a reversible way\n",
    "3. `expec_votes`: given a grid, a candidate, and a district description, output the expectation of votes that candidate received\n",
    "4. `prob_votes`: given a grid, a candidate, a district description, and the observed vote outcomes, output the probability of seeing that outcome\n",
    "5. `mcmc`: run a Markov Chain Monte Carlo method on a state space of grids\n",
    "6. `hill_climb`: optimize the expectation or probability with gradient descent"
   ]
  },
  {
   "cell_type": "markdown",
   "metadata": {},
   "source": [
    "### `make_grid`"
   ]
  },
  {
   "cell_type": "code",
   "execution_count": 1,
   "metadata": {},
   "outputs": [],
   "source": [
    "import numpy as np"
   ]
  },
  {
   "cell_type": "code",
   "execution_count": 31,
   "metadata": {},
   "outputs": [],
   "source": [
    "def make_grid(num_groups, matrix_size, random=True):\n",
    "    \"\"\"\n",
    "    Create a probabilistic grid.\n",
    "    \n",
    "    num_groups (int): the number of groups to be represented \n",
    "    matrix_size (int): the dimensions of the matrix\n",
    "    random (bool): whether the grid should be initialized uniformly\n",
    "    or randomly\n",
    "    \n",
    "    return: a probabilistic grid \n",
    "    \"\"\"\n",
    "    if random:\n",
    "        matrix = np.random.rand(num_groups - 1, matrix_size, matrix_size)\n",
    "    else:\n",
    "        matrix = np.ones((num_groups - 1, matrix_size, matrix_size))\n",
    "    return matrix / matrix.sum()"
   ]
  },
  {
   "cell_type": "markdown",
   "metadata": {},
   "source": [
    "### `shift_weight`"
   ]
  },
  {
   "cell_type": "code",
   "execution_count": 58,
   "metadata": {},
   "outputs": [],
   "source": [
    "def shift_weight(grid, shift_type=\"uniform\"):\n",
    "    \"\"\"\n",
    "    Shift the weight in a probabilistic grid.\n",
    "    \n",
    "    grid (NumPy array): the probabilistic grid to be perturbed\n",
    "    shift_type (string): the type of shift to be done. One of:\n",
    "        1. uniform (default): add a uniform random variable to each cell then re-normalize\n",
    "        2. shuffle: shuffle the matrix (O(n))\n",
    "        3. right: shift 10% of weight to the right\n",
    "        4. left: shift 10% of weight to the left\n",
    "    \n",
    "    return: a probabilistic grid\n",
    "    \"\"\"\n",
    "    if shift_type == \"shuffle\":\n",
    "        np.random.shuffle(grid)\n",
    "        return grid\n",
    "    elif shift_type == \"right\":\n",
    "        rolled = np.roll(grid, 1, axis=1)\n",
    "        return grid + (rolled * 0.1) - (grid * 0.1)\n",
    "    elif shift_type == \"left\":\n",
    "        rolled = np.roll(grid, -1, axis=1)\n",
    "        return grid + (rolled * 0.1) - (grid * 0.1)\n",
    "    else:\n",
    "        new_grid = grid + np.random.uniform()\n",
    "        return new_grid / new_grid.sum()"
   ]
  },
  {
   "cell_type": "code",
   "execution_count": null,
   "metadata": {},
   "outputs": [],
   "source": []
  }
 ],
 "metadata": {
  "kernelspec": {
   "display_name": "Python 3",
   "language": "python",
   "name": "python3"
  },
  "language_info": {
   "codemirror_mode": {
    "name": "ipython",
    "version": 3
   },
   "file_extension": ".py",
   "mimetype": "text/x-python",
   "name": "python",
   "nbconvert_exporter": "python",
   "pygments_lexer": "ipython3",
   "version": "3.7.4"
  }
 },
 "nbformat": 4,
 "nbformat_minor": 4
}
