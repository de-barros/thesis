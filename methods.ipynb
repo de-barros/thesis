{
 "cells": [
  {
   "cell_type": "markdown",
   "metadata": {},
   "source": [
    "## The Functions of the Discrete Voter Model\n",
    "\n",
    "This notebook implements the following $6$ subroutines for the **discrete voter model**:\n",
    "1. `make_grid`: create a probabilistic grid: an $\\mathbf{R}^n$ array of values, $\\omega$, that all sum to $1$\n",
    "2. `shift_weight`: shift weight in a grid in a reversible way\n",
    "3. `expec_votes`: given a grid, a candidate, and a district description, output the expectation of votes that candidate received\n",
    "4. `prob_votes`: given a grid, a candidate, a district description, and the observed vote outcomes, output the probability of seeing that outcome\n",
    "5. `mcmc`: run a Markov Chain Monte Carlo method on a state space of grids\n",
    "6. `hill_climb`: optimize the expectation or probability with gradient descent"
   ]
  },
  {
   "cell_type": "markdown",
   "metadata": {},
   "source": [
    "### `make_grid`\n",
    "Create a probabilistic grid: an $\\mathbf{R}^n$ array of values, $\\omega$, that all sum to $1$."
   ]
  },
  {
   "cell_type": "code",
   "execution_count": 119,
   "metadata": {},
   "outputs": [],
   "source": [
    "import numpy as np\n",
    "from operator import mul\n",
    "import functools\n",
    "from scipy.stats import binom"
   ]
  },
  {
   "cell_type": "code",
   "execution_count": 14,
   "metadata": {},
   "outputs": [],
   "source": [
    "def make_grid(num_groups, matrix_size, random=True):\n",
    "    \"\"\"\n",
    "    Create a probabilistic grid.\n",
    "    \n",
    "    num_groups (int): the number of groups to be represented \n",
    "    matrix_size (int): the dimensions of the matrix\n",
    "    random (bool): whether the grid should be initialized uniformly\n",
    "    or randomly\n",
    "    \n",
    "    return: a probabilistic grid\n",
    "    \"\"\"\n",
    "    shape = tuple([matrix_size] * num_groups)\n",
    "    if random:\n",
    "        matrix = np.random.rand(*shape)\n",
    "    else:\n",
    "        matrix = np.ones(shape)\n",
    "    return matrix / matrix.sum()"
   ]
  },
  {
   "cell_type": "code",
   "execution_count": 62,
   "metadata": {},
   "outputs": [],
   "source": [
    "test_grid = make_grid(3, 10)"
   ]
  },
  {
   "cell_type": "markdown",
   "metadata": {},
   "source": [
    "### `shift_weight`\n",
    "Shift weight in a grid in a reversible way."
   ]
  },
  {
   "cell_type": "code",
   "execution_count": 17,
   "metadata": {},
   "outputs": [],
   "source": [
    "def shift_weight(grid, shift_type=\"uniform\"):\n",
    "    \"\"\"\n",
    "    Shift the weight in a probabilistic grid.\n",
    "    \n",
    "    grid (NumPy array): the probabilistic grid to be perturbed\n",
    "    shift_type (string): the type of shift to be done. One of:\n",
    "        1. uniform (default): add a uniform random variable to each cell then re-normalize\n",
    "        2. shuffle: shuffle the matrix (O(n))\n",
    "        3. right: shift 10% of weight to the right\n",
    "        4. left: shift 10% of weight to the left\n",
    "    \n",
    "    return: a probabilistic grid\n",
    "    \"\"\"\n",
    "    if shift_type == \"shuffle\":\n",
    "        np.random.shuffle(grid)\n",
    "        return grid\n",
    "    elif shift_type == \"right\":\n",
    "        rolled = np.roll(grid, 1, axis=1)\n",
    "        return grid + (rolled * 0.1) - (grid * 0.1)\n",
    "    elif shift_type == \"left\":\n",
    "        rolled = np.roll(grid, -1, axis=1)\n",
    "        return grid + (rolled * 0.1) - (grid * 0.1)\n",
    "    else:\n",
    "        new_grid = grid + np.random.uniform()\n",
    "        return new_grid / new_grid.sum()"
   ]
  },
  {
   "cell_type": "markdown",
   "metadata": {},
   "source": [
    "### `expec_votes`\n",
    "Given a grid, a candidate, and a district description, output the expectation of votes that candidate received."
   ]
  },
  {
   "cell_type": "code",
   "execution_count": 121,
   "metadata": {},
   "outputs": [],
   "source": [
    "def get_vote_outcome(flat_index, grid, demo, print_stats=False):\n",
    "    \"\"\"\n",
    "    Find the vote outcome of a given election\n",
    "    for a candidate, with a given probabilistic\n",
    "    grid.\n",
    "    \n",
    "    flat_index (int): the flat index of the selected cell\n",
    "    grid (NumPy array): the probabilistic grid for the precinct\n",
    "    and candidate\n",
    "    demo (dict): the demographics of the district\n",
    "    print_stats (boolean): whether to print the statistics\n",
    "    \"\"\"\n",
    "    # Find the corresponding index\n",
    "    index = np.unravel_index(flat_index, grid.shape)\n",
    "    matrix_dim = grid.shape[0]\n",
    "    \n",
    "    if print_stats:\n",
    "        print(f\"The index is {index}.\")\n",
    "    \n",
    "    # Calculate the vote outcomes given the cell selected\n",
    "    \n",
    "    vote_outcome = np.zeros(len(demo))\n",
    "    \n",
    "    for num, group in enumerate(demo):\n",
    "        # Find the probabilities the cell represents for each group\n",
    "        pct = index[num] / matrix_dim\n",
    "        \n",
    "        if print_stats:\n",
    "            print(f\"{int(pct * 100)}% of the {group} population voted for this candidate.\")\n",
    "            \n",
    "        vote_outcome[num] += demo[group] * pct\n",
    "        \n",
    "    return np.sum(vote_outcome)"
   ]
  },
  {
   "cell_type": "code",
   "execution_count": 115,
   "metadata": {},
   "outputs": [],
   "source": [
    "def expec_votes(grid, demo, print_all_stats=False):\n",
    "    \"\"\"\n",
    "    Find the expectation of the vote outcome\n",
    "    for a candidate, with a given probabilistic\n",
    "    grid.\n",
    "    \n",
    "    grid (NumPy array): the probabilistic grid for the precinct\n",
    "    and candidate\n",
    "    demo (dict): the demographics of the district\n",
    "    \"\"\"\n",
    "    probs = grid.flatten()\n",
    "    outcomes = []\n",
    "    for flat_index, prob in enumerate(probs):\n",
    "        # Set up printing\n",
    "        print_stats = False\n",
    "        if flat_index % 10 == 0 and print_all_stats:\n",
    "            print_stats = True\n",
    "        outcomes.append(get_vote_outcome(flat_index, grid, demo, print_stats))\n",
    "        \n",
    "    return np.average(outcomes, weights=probs)"
   ]
  },
  {
   "cell_type": "code",
   "execution_count": 109,
   "metadata": {},
   "outputs": [],
   "source": [
    "test_demo = {\"Black\": 10, \"white\": 8, \"Latinx\": 5}"
   ]
  },
  {
   "cell_type": "code",
   "execution_count": 146,
   "metadata": {},
   "outputs": [],
   "source": [
    "test_flat_index = np.random.choice(range(test_grid.size), p=test_grid.flatten())"
   ]
  },
  {
   "cell_type": "code",
   "execution_count": 147,
   "metadata": {},
   "outputs": [
    {
     "data": {
      "text/plain": [
       "15.0"
      ]
     },
     "execution_count": 147,
     "metadata": {},
     "output_type": "execute_result"
    }
   ],
   "source": [
    "get_vote_outcome(test_flat_index, test_grid, test_demo)"
   ]
  },
  {
   "cell_type": "code",
   "execution_count": 148,
   "metadata": {},
   "outputs": [
    {
     "data": {
      "text/plain": [
       "10.447431757252199"
      ]
     },
     "execution_count": 148,
     "metadata": {},
     "output_type": "execute_result"
    }
   ],
   "source": [
    "expec_votes(test_grid, test_demo)"
   ]
  },
  {
   "cell_type": "markdown",
   "metadata": {},
   "source": [
    "### `prob_votes`\n",
    "Given a grid, a candidate, a district description, and the observed vote outcomes, output the probability of seeing that outcome."
   ]
  },
  {
   "cell_type": "code",
   "execution_count": 122,
   "metadata": {},
   "outputs": [],
   "source": [
    "def integer_partition(n, k, min_size=1):\n",
    "    \"\"\"\n",
    "    Partition an integer.\n",
    "    \n",
    "    n (int): the integer to partition\n",
    "    k (int): the number of elements in a partition\n",
    "    min_size (int): the minimum size of an element\n",
    "    in the partition\n",
    "    \"\"\"\n",
    "    if k < 1:\n",
    "        return\n",
    "    if k == 1:\n",
    "        if n >= min_size:\n",
    "            yield (n,)\n",
    "        return\n",
    "    for i in range(min_size, n // k + 1):\n",
    "        for result in integer_partition(n - i, k - 1, i):\n",
    "            yield (i,) + result"
   ]
  },
  {
   "cell_type": "code",
   "execution_count": 133,
   "metadata": {},
   "outputs": [
    {
     "name": "stdout",
     "output_type": "stream",
     "text": [
      "(1, 1, 3)\n",
      "(1, 2, 2)\n"
     ]
    }
   ],
   "source": [
    "for partition in integer_partition(5, 3):\n",
    "    print(partition)"
   ]
  },
  {
   "cell_type": "code",
   "execution_count": 189,
   "metadata": {},
   "outputs": [],
   "source": [
    "def get_vote_probability(flat_index, grid, demo, observed):\n",
    "    \"\"\"\n",
    "    Find the probability of a grid's cell producing a\n",
    "    vote outcome of a given election for a candidate, \n",
    "    with a given probabilistic grid.\n",
    "    \n",
    "    flat_index (int): the flat index of the selected cell\n",
    "    grid (NumPy array): the probabilistic grid for the precinct\n",
    "    and candidate\n",
    "    demo (dict): the demographics of the district\n",
    "    observed (int): the number of votes the candidate\n",
    "    received in the election\n",
    "    \"\"\"\n",
    "    # Find the corresponding index\n",
    "    index = np.unravel_index(flat_index, grid.shape)\n",
    "    matrix_dim = grid.shape[0]\n",
    "    \n",
    "    # Find the vote percentages for each demographic group\n",
    "    vote_pcts = [index[num] / matrix_dim for num, group in enumerate(demo)]\n",
    "    \n",
    "    # Find the probability of the outcome\n",
    "    total_prob = 0\n",
    "    observed_factorial = np.math.factorial(observed)\n",
    "    \n",
    "    # Go through the possible partitions of the vote outcome, by race\n",
    "    for partition in integer_partition(observed, len(demo)):\n",
    "        prob = 1\n",
    "        # Find the probability of seeing that outcome\n",
    "        for num, group in enumerate(demo):\n",
    "            prob *= (vote_pcts[num] ** partition[num]) * ((1 - vote_pcts[num]) ** (demo[group] - partition[num]))\n",
    "        \n",
    "        factorial_list = np.asarray([np.math.factorial(votes) for votes in partition])\n",
    "        coefficient = observed_factorial / np.prod(factorial_list)\n",
    "\n",
    "        total_prob += prob * coefficient\n",
    "        \n",
    "    return total_prob"
   ]
  },
  {
   "cell_type": "code",
   "execution_count": 171,
   "metadata": {},
   "outputs": [],
   "source": [
    "test_observed = 10"
   ]
  },
  {
   "cell_type": "code",
   "execution_count": 190,
   "metadata": {},
   "outputs": [
    {
     "data": {
      "text/plain": [
       "0.0007289680406400011"
      ]
     },
     "execution_count": 190,
     "metadata": {},
     "output_type": "execute_result"
    }
   ],
   "source": [
    "get_vote_probability(test_flat_index, test_grid, test_demo, test_observed)"
   ]
  },
  {
   "cell_type": "code",
   "execution_count": 191,
   "metadata": {},
   "outputs": [],
   "source": [
    "def prob_votes(grid, demo, observed):\n",
    "    \"\"\"\n",
    "    Find the probability that a grid produced\n",
    "    the observed number of votes that a candidate\n",
    "    received in a given election, with a given\n",
    "    probabilistic grid.\n",
    "    \n",
    "    grid (NumPy array): the probabilistic grid for the precinct\n",
    "    and candidate\n",
    "    demo (dict): the demographics of the district\n",
    "    observed (int): the observed number of votes the candidate received\n",
    "    \"\"\"\n",
    "    probs = grid.flatten()\n",
    "    grid_prob = 0\n",
    "    for flat_index, prob in enumerate(probs):\n",
    "        vote_prob = get_vote_probability(flat_index, grid, demo, observed)\n",
    "        grid_prob += vote_prob * prob\n",
    "        \n",
    "    return grid_prob"
   ]
  },
  {
   "cell_type": "code",
   "execution_count": 200,
   "metadata": {},
   "outputs": [
    {
     "data": {
      "text/plain": [
       "0.5336203195517829"
      ]
     },
     "execution_count": 200,
     "metadata": {},
     "output_type": "execute_result"
    }
   ],
   "source": [
    "prob_votes(test_grid, test_demo, test_observed)"
   ]
  },
  {
   "cell_type": "code",
   "execution_count": null,
   "metadata": {},
   "outputs": [],
   "source": []
  }
 ],
 "metadata": {
  "kernelspec": {
   "display_name": "Python 3",
   "language": "python",
   "name": "python3"
  },
  "language_info": {
   "codemirror_mode": {
    "name": "ipython",
    "version": 3
   },
   "file_extension": ".py",
   "mimetype": "text/x-python",
   "name": "python",
   "nbconvert_exporter": "python",
   "pygments_lexer": "ipython3",
   "version": "3.7.4"
  }
 },
 "nbformat": 4,
 "nbformat_minor": 4
}
