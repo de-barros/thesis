{
 "cells": [
  {
   "cell_type": "markdown",
   "metadata": {},
   "source": [
    "## The Functions of the Discrete Voter Model\n",
    "\n",
    "This notebook implements the following $6$ subroutines for the **discrete voter model**:\n",
    "1. `make_grid`: create a probabilistic grid: an $\\mathbf{R}^n$ array of values, $\\omega$, that all sum to $1$\n",
    "2. `shift_weight`: shift weight in a grid in a reversible way\n",
    "3. `expec_votes`: given a grid, a candidate, and a district description, output the expectation of votes that candidate received\n",
    "4. `prob_votes`: given a grid, a candidate, a district description, and the observed vote outcomes, output the probability of seeing that outcome\n",
    "5. `mcmc`: run a Markov Chain Monte Carlo method on a state space of grids\n",
    "6. `hill_climb`: optimize the expectation or probability with gradient descent"
   ]
  },
  {
   "cell_type": "markdown",
   "metadata": {},
   "source": [
    "### `make_grid`"
   ]
  },
  {
   "cell_type": "code",
   "execution_count": null,
   "metadata": {},
   "outputs": [],
   "source": []
  },
  {
   "cell_type": "code",
   "execution_count": null,
   "metadata": {},
   "outputs": [],
   "source": [
    "def make_grid(n_dim, granularity):\n",
    "    \"\"\"\n",
    "    Create a probabilistic grid.\n",
    "    \n",
    "    n_dim (int): the number of dimensions of the grid\n",
    "    granularity (float): the length of a single cell\n",
    "    \"\"\"\n",
    "    "
   ]
  }
 ],
 "metadata": {
  "kernelspec": {
   "display_name": "Python 3",
   "language": "python",
   "name": "python3"
  },
  "language_info": {
   "codemirror_mode": {
    "name": "ipython",
    "version": 3
   },
   "file_extension": ".py",
   "mimetype": "text/x-python",
   "name": "python",
   "nbconvert_exporter": "python",
   "pygments_lexer": "ipython3",
   "version": "3.7.4"
  }
 },
 "nbformat": 4,
 "nbformat_minor": 4
}
